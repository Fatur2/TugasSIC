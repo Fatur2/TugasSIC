{
  "nbformat": 4,
  "nbformat_minor": 0,
  "metadata": {
    "colab": {
      "provenance": [],
      "include_colab_link": true
    },
    "kernelspec": {
      "name": "python3",
      "display_name": "Python 3"
    },
    "language_info": {
      "name": "python"
    }
  },
  "cells": [
    {
      "cell_type": "markdown",
      "metadata": {
        "id": "view-in-github",
        "colab_type": "text"
      },
      "source": [
        "<a href=\"https://colab.research.google.com/github/Fatur2/TugasSIC/blob/main/202304560042_FaturRahmanImpung_ProjectSIC_DataFormasiFutsal.ipynb\" target=\"_parent\"><img src=\"https://colab.research.google.com/assets/colab-badge.svg\" alt=\"Open In Colab\"/></a>"
      ]
    },
    {
      "cell_type": "code",
      "execution_count": null,
      "metadata": {
        "id": "0SeTH3NS2g36"
      },
      "outputs": [],
      "source": [
        "from google.colab import files\n",
        "import pandas as pd\n",
        "uploaded = files.upload()"
      ]
    },
    {
      "cell_type": "code",
      "source": [
        "# Load dataset\n",
        "df = pd.read_csv('/content/formasi_futsal_dataset_super_lengkap.csv')\n",
        "\n",
        "# Cek data\n",
        "print(\"Jumlah data:\", df.shape)\n",
        "print(\"\\nDaftar formasi unik:\")\n",
        "print(df['Formasi'].unique())\n",
        "\n",
        "# Visualisasi distribusi gaya bermain\n",
        "sns.countplot(data=df, x='Gaya_Bermain')\n",
        "plt.title('Distribusi Gaya Bermain')\n",
        "plt.show()\n",
        "\n",
        "# Tampilkan data\n",
        "df[['Formasi', 'Gaya_Bermain', 'Risiko', 'Tipe_Pemain']]"
      ],
      "metadata": {
        "id": "G8U78isl7g_T"
      },
      "execution_count": null,
      "outputs": []
    },
    {
      "cell_type": "code",
      "source": [
        "# ===== Sistem Rekomendasi Interaktif dengan Semua Formasi =====\n",
        "import ipywidgets as widgets\n",
        "from IPython.display import display\n",
        "\n",
        "# Strategi counter lengkap untuk semua formasi yang ada di dataset\n",
        "strategi_counter = {\n",
        "    '2-2': '1-2-1',\n",
        "    '1-2-1': '3-1',\n",
        "    '3-1': '2-1-1',\n",
        "    '2-1-1': '1-1-2',\n",
        "    '1-1-2': '2-2',\n",
        "    '1-3': '2-2',\n",
        "    '2-1-2': '1-3',\n",
        "    '1-4': '4-0',\n",
        "    '4-0': '1-4',\n",
        "    'Diamond (1-2-1)': '2-1-2'\n",
        "}\n",
        "\n",
        "# Tampilkan\n",
        "formasi_lawan_tersedia = [f for f in strategi_counter.keys() if f in df['Formasi'].values]\n",
        "\n",
        "# Dropdown interaktif\n",
        "dropdown = widgets.Dropdown(\n",
        "    options=formasi_lawan_tersedia,\n",
        "    description='Pilih Formasi Lawan:',\n",
        "    style={'description_width': 'initial'},\n",
        "    layout=widgets.Layout(width='50%')\n",
        ")\n",
        "\n",
        "output = widgets.Output()\n",
        "\n",
        "def on_change(change):\n",
        "    with output:\n",
        "        output.clear_output()\n",
        "        formasi_lawan = change['new']\n",
        "        formasi_counter = strategi_counter.get(formasi_lawan)\n",
        "        hasil = df[df['Formasi'] == formasi_counter]\n",
        "\n",
        "        print(f\"Formasi lawan: {formasi_lawan}\")\n",
        "        print(f\"Formasi counter terbaik: {formasi_counter}\")\n",
        "        if not hasil.empty:\n",
        "            display(hasil[['Formasi', 'Gaya_Bermain', 'Risiko', 'Tipe_Pemain']])\n",
        "        else:\n",
        "            print(\"Data formasi counter tidak ditemukan di dataset.\")\n",
        "\n",
        "# Trigger saat pilihan diubah\n",
        "dropdown.observe(on_change, names='value')\n",
        "\n",
        "# Tampilkan UI\n",
        "display(dropdown, output)\n"
      ],
      "metadata": {
        "id": "gkFpa2l16o2v"
      },
      "execution_count": null,
      "outputs": []
    }
  ]
}